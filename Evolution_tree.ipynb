{
 "cells": [
  {
   "cell_type": "code",
   "execution_count": 2,
   "metadata": {
    "collapsed": true
   },
   "outputs": [],
   "source": [
    "import csv"
   ]
  },
  {
   "cell_type": "code",
   "execution_count": 24,
   "metadata": {
    "collapsed": false
   },
   "outputs": [],
   "source": [
    "data_file = open(\"part6.txt\", \"r\") #reading the tsv file\n",
    "data_reader =csv.reader(data_file, delimiter = '\\t')\n",
    "gene_name=[]\n",
    "gene_expres=[]\n",
    "gene_effic=[]\n",
    "for row in data_reader:\n",
    "    gene_name.append(row[0])\n",
    "    gene_expres.append(float(row[1]))\n",
    "    gene_effic.append(float(row[2]))"
   ]
  },
  {
   "cell_type": "code",
   "execution_count": 25,
   "metadata": {
    "collapsed": false
   },
   "outputs": [],
   "source": [
    "evolution_increased=[]\n",
    "effic_increased=[]\n",
    "for x in gene_expres:\n",
    "    if x > 0:\n",
    "        evolution_increased.append(\"evolution_increased\")\n",
    "    elif x < 0:\n",
    "        evolution_increased.append(\"evolution_decreased\")       \n",
    "\n",
    "for x in gene_effic:    \n",
    "    if x > 0:\n",
    "        effic_increased.append(\"effic_increased\")\n",
    "    elif x < 0:\n",
    "        effic_increased.append(\"effic_deccreased\")\n"
   ]
  },
  {
   "cell_type": "code",
   "execution_count": 28,
   "metadata": {
    "collapsed": false
   },
   "outputs": [],
   "source": [
    "with open(\"part6_out.tsv\", 'wb') as f:\n",
    "    a= csv.writer(f, delimiter =\"\\t\")\n",
    "    a.writerows(zip(gene_name,evolution_increased,effic_increased))"
   ]
  },
  {
   "cell_type": "code",
   "execution_count": null,
   "metadata": {
    "collapsed": true
   },
   "outputs": [],
   "source": []
  },
  {
   "cell_type": "code",
   "execution_count": null,
   "metadata": {
    "collapsed": true
   },
   "outputs": [],
   "source": []
  }
 ],
 "metadata": {
  "kernelspec": {
   "display_name": "Python 2",
   "language": "python",
   "name": "python2"
  },
  "language_info": {
   "codemirror_mode": {
    "name": "ipython",
    "version": 2
   },
   "file_extension": ".py",
   "mimetype": "text/x-python",
   "name": "python",
   "nbconvert_exporter": "python",
   "pygments_lexer": "ipython2",
   "version": "2.7.13"
  }
 },
 "nbformat": 4,
 "nbformat_minor": 2
}
